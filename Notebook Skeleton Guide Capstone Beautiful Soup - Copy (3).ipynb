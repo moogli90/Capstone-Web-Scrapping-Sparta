{
 "cells": [
  {
   "cell_type": "markdown",
   "metadata": {},
   "source": [
    "# Capstone Webscrapping using BeautifulSoup\n",
    "\n",
    "This notebook contains guidances & tasks on the data processing for the application\n",
    "\n",
    "## background\n",
    "\n",
    "At this project we try to scrap movie data release in 2021 from IMDB website. IMDB is an online database of information related to films, television series, home videos, video games, and streaming content online – including cast, production crew and personal biographies, plot summaries, trivia, ratings, and fan and critical reviews\n",
    "\n",
    "A lot of you might ask why we need to scrap this data from the sites while it already have a good enough visualisation because we want to find new insights from a data\n",
    "\n",
    "We will scrap 4 points from this sites\n",
    "1. Film title\n",
    "2. IMDB Rating : IMDB rating are on a scale from 1 - 10. 1 meaning the title was terrible and one of the worst titles you've seen and 10 meaning you think it was excellent.\n",
    "3. vote : number of people who gave ratings\n",
    "4. Metascore : Metascore is considered the rating of a film. Scores are assigned to movie's reviews of large group of the world's most respected critics, and weighted average are applied to summarize their opinions range.\n",
    "\n",
    "## Requesting the Data and Creating a BeautifulSoup\n",
    "\n",
    "Let's begin with requesting the web from the site with `get` method."
   ]
  },
  {
   "cell_type": "code",
   "execution_count": 95,
   "metadata": {},
   "outputs": [
    {
     "name": "stdout",
     "output_type": "stream",
     "text": [
      "Requirement already satisfied: beautifulsoup4==4.10.0 in c:\\users\\bni syariah\\anaconda3\\lib\\site-packages (from -r requirements.txt (line 1)) (4.10.0)Note: you may need to restart the kernel to use updated packages.\n",
      "\n",
      "Requirement already satisfied: certifi==2021.10.8 in c:\\users\\bni syariah\\anaconda3\\lib\\site-packages (from -r requirements.txt (line 2)) (2021.10.8)\n",
      "Requirement already satisfied: charset-normalizer==2.0.10 in c:\\users\\bni syariah\\anaconda3\\lib\\site-packages (from -r requirements.txt (line 3)) (2.0.10)\n",
      "Requirement already satisfied: click==8.0.3 in c:\\users\\bni syariah\\anaconda3\\lib\\site-packages (from -r requirements.txt (line 4)) (8.0.3)\n",
      "Requirement already satisfied: colorama==0.4.4 in c:\\users\\bni syariah\\anaconda3\\lib\\site-packages (from -r requirements.txt (line 5)) (0.4.4)\n",
      "Requirement already satisfied: cycler==0.11.0 in c:\\users\\bni syariah\\anaconda3\\lib\\site-packages (from -r requirements.txt (line 6)) (0.11.0)\n",
      "Requirement already satisfied: Flask==2.0.2 in c:\\users\\bni syariah\\anaconda3\\lib\\site-packages (from -r requirements.txt (line 7)) (2.0.2)\n",
      "Requirement already satisfied: fonttools==4.28.5 in c:\\users\\bni syariah\\anaconda3\\lib\\site-packages (from -r requirements.txt (line 8)) (4.28.5)\n",
      "Requirement already satisfied: idna==3.3 in c:\\users\\bni syariah\\anaconda3\\lib\\site-packages (from -r requirements.txt (line 9)) (3.3)\n",
      "Requirement already satisfied: importlib-metadata==4.10.0 in c:\\users\\bni syariah\\anaconda3\\lib\\site-packages (from -r requirements.txt (line 10)) (4.10.0)\n",
      "Requirement already satisfied: itsdangerous==2.0.1 in c:\\users\\bni syariah\\anaconda3\\lib\\site-packages (from -r requirements.txt (line 11)) (2.0.1)\n",
      "Requirement already satisfied: Jinja2==3.0.3 in c:\\users\\bni syariah\\anaconda3\\lib\\site-packages (from -r requirements.txt (line 12)) (3.0.3)\n",
      "Requirement already satisfied: kiwisolver==1.3.2 in c:\\users\\bni syariah\\anaconda3\\lib\\site-packages (from -r requirements.txt (line 13)) (1.3.2)\n",
      "Requirement already satisfied: MarkupSafe==2.0.1 in c:\\users\\bni syariah\\anaconda3\\lib\\site-packages (from -r requirements.txt (line 14)) (2.0.1)\n",
      "Requirement already satisfied: matplotlib==3.5.1 in c:\\users\\bni syariah\\anaconda3\\lib\\site-packages (from -r requirements.txt (line 15)) (3.5.1)\n",
      "Requirement already satisfied: numpy==1.21.5 in c:\\users\\bni syariah\\anaconda3\\lib\\site-packages (from -r requirements.txt (line 16)) (1.21.5)\n",
      "Requirement already satisfied: packaging==21.3 in c:\\users\\bni syariah\\anaconda3\\lib\\site-packages (from -r requirements.txt (line 17)) (21.3)\n",
      "Requirement already satisfied: pandas==1.3.5 in c:\\users\\bni syariah\\anaconda3\\lib\\site-packages (from -r requirements.txt (line 18)) (1.3.5)\n",
      "Requirement already satisfied: Pillow==9.0.0 in c:\\users\\bni syariah\\anaconda3\\lib\\site-packages (from -r requirements.txt (line 19)) (9.0.0)\n",
      "Requirement already satisfied: pyparsing==3.0.6 in c:\\users\\bni syariah\\anaconda3\\lib\\site-packages (from -r requirements.txt (line 20)) (3.0.6)\n",
      "Requirement already satisfied: python-dateutil==2.8.2 in c:\\users\\bni syariah\\anaconda3\\lib\\site-packages (from -r requirements.txt (line 21)) (2.8.2)\n",
      "Requirement already satisfied: pytz==2021.3 in c:\\users\\bni syariah\\anaconda3\\lib\\site-packages (from -r requirements.txt (line 22)) (2021.3)\n",
      "Requirement already satisfied: requests==2.27.1 in c:\\users\\bni syariah\\anaconda3\\lib\\site-packages (from -r requirements.txt (line 23)) (2.27.1)\n",
      "Requirement already satisfied: six==1.16.0 in c:\\users\\bni syariah\\anaconda3\\lib\\site-packages (from -r requirements.txt (line 24)) (1.16.0)\n",
      "Requirement already satisfied: soupsieve==2.3.1 in c:\\users\\bni syariah\\anaconda3\\lib\\site-packages (from -r requirements.txt (line 25)) (2.3.1)\n",
      "Requirement already satisfied: typing_extensions==4.0.1 in c:\\users\\bni syariah\\anaconda3\\lib\\site-packages (from -r requirements.txt (line 26)) (4.0.1)\n",
      "Requirement already satisfied: urllib3==1.26.8 in c:\\users\\bni syariah\\anaconda3\\lib\\site-packages (from -r requirements.txt (line 27)) (1.26.8)\n",
      "Requirement already satisfied: Werkzeug==2.0.2 in c:\\users\\bni syariah\\anaconda3\\lib\\site-packages (from -r requirements.txt (line 28)) (2.0.2)\n",
      "Requirement already satisfied: wincertstore==0.2 in c:\\users\\bni syariah\\anaconda3\\lib\\site-packages (from -r requirements.txt (line 29)) (0.2)\n",
      "Requirement already satisfied: zipp==3.7.0 in c:\\users\\bni syariah\\anaconda3\\lib\\site-packages (from -r requirements.txt (line 30)) (3.7.0)\n"
     ]
    }
   ],
   "source": [
    "pip install -r requirements.txt"
   ]
  },
  {
   "cell_type": "code",
   "execution_count": 77,
   "metadata": {
    "ExecuteTime": {
     "end_time": "2020-01-13T05:12:23.275508Z",
     "start_time": "2020-01-13T05:12:20.009898Z"
    }
   },
   "outputs": [],
   "source": [
    "import requests\n",
    "\n",
    "url_get = requests.get('https://www.imdb.com/search/title/?release_date=2021-01-01,2021-12-31')"
   ]
  },
  {
   "cell_type": "markdown",
   "metadata": {},
   "source": [
    "To visualize what exactly you get from the `request.get`, we can use .content so ee what we exactly get, in here i slice it so it won't make our screen full of the html we get from the page. You can delete the slicing if you want to see what we fully get."
   ]
  },
  {
   "cell_type": "code",
   "execution_count": 78,
   "metadata": {
    "ExecuteTime": {
     "end_time": "2020-01-13T05:12:23.290648Z",
     "start_time": "2020-01-13T05:12:23.277650Z"
    }
   },
   "outputs": [
    {
     "data": {
      "text/plain": [
       "b'\\n<!DOCTYPE html>\\n<html\\n    xmlns:og=\"http://ogp.me/ns#\"\\n    xmlns:fb=\"http://www.facebook.com/2008/fbml\">\\n    <head>\\n         \\n\\n        <meta charset=\"utf-8\">\\n        <meta http-equiv=\"X-UA-Compatible\" content=\"IE=edge\">\\n\\n\\n\\n\\n        <script type=\"text/javascript\">var IMDbTimer={starttime: new Date().getTime(),pt:\\'java\\'};</script>\\n\\n<script>\\n    if (typeof uet == \\'function\\') {\\n      uet(\"bb\", \"LoadTitle\", {wb: 1});\\n    }\\n</script>\\n  <script>(function(t){ (t.events = t.events || {})[\"csm_head_pre_'"
      ]
     },
     "execution_count": 78,
     "metadata": {},
     "output_type": "execute_result"
    }
   ],
   "source": [
    "url_get.content[1:500]"
   ]
  },
  {
   "cell_type": "markdown",
   "metadata": {},
   "source": [
    "As we can see we get a very unstructured and complex html, which actually contains the codes needed to show the webpages on your web browser. But we as human still confused what and where we can use that piece of code, so here where we use the beautifulsoup. Beautiful soup class will result a beautifulsoup object. Beautiful Soup transforms a complex HTML document into a complex tree of Python objects. \n",
    "\n",
    "Let's make Beautiful soup object and feel free to explore the object here."
   ]
  },
  {
   "cell_type": "code",
   "execution_count": 79,
   "metadata": {
    "ExecuteTime": {
     "end_time": "2020-01-13T05:12:23.808122Z",
     "start_time": "2020-01-13T05:12:23.292610Z"
    }
   },
   "outputs": [],
   "source": [
    "from bs4 import BeautifulSoup \n",
    "\n",
    "soup = BeautifulSoup(url_get.content,\"html.parser\")"
   ]
  },
  {
   "cell_type": "markdown",
   "metadata": {},
   "source": [
    "## Finding the right key to scrap the data & Extracting the right information"
   ]
  },
  {
   "cell_type": "markdown",
   "metadata": {},
   "source": [
    "Find the key and put the key into the `.find()` Put all the exploring the right key at this cell. (please change this markdown with your explanation)"
   ]
  },
  {
   "cell_type": "code",
   "execution_count": 80,
   "metadata": {},
   "outputs": [
    {
     "name": "stdout",
     "output_type": "stream",
     "text": [
      "div class=\"lister-item mode-advanced\">\n",
      " <div class=\"lister-top-right\">\n",
      "  <div class=\"ribbonize\" data-caller=\"filmosearch\" data-tconst=\"tt12851524\">\n",
      "  </div>\n",
      " </div>\n",
      " <div class=\"lister-item-image float-left\">\n",
      "  <a href=\"/title/tt12851524/\">\n",
      "   <img alt=\"Only Murders in the Building\" class=\"loadlate\" data-tconst=\"tt12851524\" height=\"98\" loadlate=\"https://m.media-amazon.com/images/M/MV5BZTFmZWUwZmEtYzc4Ni00N2FmLTk1MmMtZmMyODYwZTNkY2EwXkEyXkFqcGdeQXVyMTM1MTE1NDMx._V1_UY98_CR5,0,67,98_AL_.jpg\" src=\n"
     ]
    }
   ],
   "source": [
    "table = soup.find(\"div\", attrs={\"class\":\"lister-item mode-advanced\"})\n",
    "print(table.prettify()[1:500])"
   ]
  },
  {
   "cell_type": "markdown",
   "metadata": {},
   "source": [
    "Finding row length."
   ]
  },
  {
   "cell_type": "code",
   "execution_count": 81,
   "metadata": {},
   "outputs": [
    {
     "data": {
      "text/plain": [
       "50"
      ]
     },
     "execution_count": 81,
     "metadata": {},
     "output_type": "execute_result"
    }
   ],
   "source": [
    "table = soup.findAll(\"div\", attrs={\"class\":\"lister-item mode-advanced\"})\n",
    "row_length = len(table)\n",
    "row_length"
   ]
  },
  {
   "cell_type": "markdown",
   "metadata": {},
   "source": [
    "Do the scrapping process here (please change this markdown with your explanation)"
   ]
  },
  {
   "cell_type": "code",
   "execution_count": 82,
   "metadata": {
    "collapsed": true
   },
   "outputs": [
    {
     "data": {
      "text/plain": [
       "[('Only Murders in the Building', '8.1', '00', '74,021', '00,00'),\n",
       " ('The Black Phone', '7.3', '65', '24,956', '00,00'),\n",
       " ('Sing 2', '7.4', '49', '55,945', '$162.79M'),\n",
       " ('Last Night in Soho', '7.1', '65', '113,809', '00,00'),\n",
       " ('House of Gucci', '6.6', '59', '111,290', '00,00'),\n",
       " ('Spider-Man: No Way Home', '8.3', '71', '674,430', '$804.75M'),\n",
       " ('1883', '8.8', '00', '56,202', '00,00'),\n",
       " ('No Time to Die', '7.3', '68', '373,570', '$160.87M'),\n",
       " ('Dune: Part One', '8.0', '74', '588,478', '$108.33M'),\n",
       " ('Ghostbusters: Afterlife', '7.1', '45', '162,241', '00,00'),\n",
       " ('Hacks', '8.2', '00', '25,235', '00,00'),\n",
       " ('Pleasure', '6.3', '75', '12,280', '00,00'),\n",
       " ('Eternals', '6.3', '52', '318,878', '$164.87M'),\n",
       " ('Superman & Lois', '7.8', '00', '30,602', '00,00'),\n",
       " ('Free Guy', '7.1', '62', '349,133', '$121.63M'),\n",
       " ('The Book of Boba Fett', '7.3', '00', '134,225', '00,00'),\n",
       " ('Operation Mincemeat', '6.6', '65', '17,735', '00,00'),\n",
       " ('Old', '5.8', '55', '109,593', '00,00'),\n",
       " ('WandaVision', '7.9', '00', '301,794', '00,00'),\n",
       " ('Invincible', '8.7', '00', '121,391', '00,00'),\n",
       " ('Mad God', '6.8', '80', '4,777', '00,00'),\n",
       " ('The Holiday', '4.7', '00', '856', '00,00'),\n",
       " ('Licorice Pizza', '7.3', '90', '89,284', '00,00'),\n",
       " ('Sex/Life', '5.4', '00', '20,396', '00,00'),\n",
       " ('Arcane: League of Legends', '9.0', '00', '184,789', '00,00'),\n",
       " ('Verdens verste menneske', '7.9', '90', '50,892', '00,00'),\n",
       " ('Encanto', '7.2', '75', '205,621', '$96.09M'),\n",
       " ('Loki', '8.2', '00', '291,400', '00,00'),\n",
       " ('Yellowjackets', '7.9', '00', '40,177', '00,00'),\n",
       " (\"You Don't Know Me\", '6.9', '00', '4,032', '00,00'),\n",
       " ('CODA', '8.0', '74', '116,526', '00,00'),\n",
       " (\"Don't Look Up\", '7.2', '49', '512,602', '00,00'),\n",
       " ('The Matrix Resurrections', '5.7', '63', '234,425', '00,00'),\n",
       " ('Physical', '7.3', '00', '8,260', '00,00'),\n",
       " ('Ojing-eo geim', '8.0', '00', '425,129', '00,00'),\n",
       " ('Black Widow', '6.7', '67', '358,969', '$183.65M'),\n",
       " ('The Suicide Squad', '7.2', '72', '335,001', '00,00'),\n",
       " (\"The King's Man\", '6.3', '44', '133,619', '00,00'),\n",
       " ('Resident Evil: Welcome to Raccoon City', '5.2', '44', '47,078', '00,00'),\n",
       " ('Nightmare Alley', '7.0', '70', '129,817', '00,00'),\n",
       " ('Shang-Chi and the Legend of the Ten Rings',\n",
       "  '7.4',\n",
       "  '71',\n",
       "  '361,400',\n",
       "  '$224.54M'),\n",
       " ('The Wheel of Time', '7.1', '00', '96,893', '00,00'),\n",
       " ('Joe Pickett', '7.5', '00', '1,986', '00,00'),\n",
       " ('The Outlaws', '7.6', '00', '9,005', '00,00'),\n",
       " ('West Side Story', '7.2', '85', '75,259', '00,00'),\n",
       " ('The Card Counter', '6.2', '77', '29,294', '00,00'),\n",
       " ('Wrath of Man', '7.1', '57', '166,787', '00,00'),\n",
       " ('The French Dispatch', '7.2', '74', '110,906', '00,00'),\n",
       " ('The Sex Lives of College Girls', '7.7', '00', '14,162', '00,00'),\n",
       " ('The Last Duel', '7.4', '67', '145,306', '00,00')]"
      ]
     },
     "execution_count": 82,
     "metadata": {},
     "output_type": "execute_result"
    }
   ],
   "source": [
    "temp = [] #initiating a tuple\n",
    "for store in table:\n",
    "    #get movie name\n",
    "    movie_name = store.h3.a.text\n",
    "    \n",
    "    #get rating\n",
    "    rating = store.find(\"div\", class_=\"inline-block ratings-imdb-rating\").text.replace(\"\\n\", \"\")\n",
    "    \n",
    "    #get metascore\n",
    "    metascore = store.find(\"span\", class_=\"metascore\").text.replace(\" \",\"\") if store.find(\"span\", class_=\"metascore\") else \"00\"\n",
    "    \n",
    "    #get vote\n",
    "    value=store.find_all('span',attrs={\"name\":\"nv\"})\n",
    "    vote=value[0].text\n",
    "    \n",
    "    #get gross\n",
    "    gross=value[1].text if len(value) >1 else '00,00'\n",
    "    \n",
    "    temp.append((movie_name,rating,metascore,vote,gross))\n",
    "    \n",
    "temp "
   ]
  },
  {
   "cell_type": "markdown",
   "metadata": {},
   "source": [
    "## Creating data frame & Data wrangling"
   ]
  },
  {
   "cell_type": "markdown",
   "metadata": {},
   "source": [
    "Put the array into dataframe"
   ]
  },
  {
   "cell_type": "code",
   "execution_count": 83,
   "metadata": {
    "ExecuteTime": {
     "end_time": "2020-01-13T05:12:41.517372Z",
     "start_time": "2020-01-13T05:12:29.130015Z"
    }
   },
   "outputs": [],
   "source": [
    "import pandas as pd"
   ]
  },
  {
   "cell_type": "code",
   "execution_count": 84,
   "metadata": {},
   "outputs": [
    {
     "data": {
      "text/html": [
       "<div>\n",
       "<style scoped>\n",
       "    .dataframe tbody tr th:only-of-type {\n",
       "        vertical-align: middle;\n",
       "    }\n",
       "\n",
       "    .dataframe tbody tr th {\n",
       "        vertical-align: top;\n",
       "    }\n",
       "\n",
       "    .dataframe thead th {\n",
       "        text-align: right;\n",
       "    }\n",
       "</style>\n",
       "<table border=\"1\" class=\"dataframe\">\n",
       "  <thead>\n",
       "    <tr style=\"text-align: right;\">\n",
       "      <th></th>\n",
       "      <th>movie_name</th>\n",
       "      <th>rating</th>\n",
       "      <th>metascore</th>\n",
       "      <th>vote</th>\n",
       "    </tr>\n",
       "  </thead>\n",
       "  <tbody>\n",
       "    <tr>\n",
       "      <th>0</th>\n",
       "      <td>Only Murders in the Building</td>\n",
       "      <td>8.1</td>\n",
       "      <td>00</td>\n",
       "      <td>74,021</td>\n",
       "    </tr>\n",
       "    <tr>\n",
       "      <th>1</th>\n",
       "      <td>The Black Phone</td>\n",
       "      <td>7.3</td>\n",
       "      <td>65</td>\n",
       "      <td>24,956</td>\n",
       "    </tr>\n",
       "    <tr>\n",
       "      <th>2</th>\n",
       "      <td>Sing 2</td>\n",
       "      <td>7.4</td>\n",
       "      <td>49</td>\n",
       "      <td>55,945</td>\n",
       "    </tr>\n",
       "    <tr>\n",
       "      <th>3</th>\n",
       "      <td>Last Night in Soho</td>\n",
       "      <td>7.1</td>\n",
       "      <td>65</td>\n",
       "      <td>113,809</td>\n",
       "    </tr>\n",
       "    <tr>\n",
       "      <th>4</th>\n",
       "      <td>House of Gucci</td>\n",
       "      <td>6.6</td>\n",
       "      <td>59</td>\n",
       "      <td>111,290</td>\n",
       "    </tr>\n",
       "    <tr>\n",
       "      <th>5</th>\n",
       "      <td>Spider-Man: No Way Home</td>\n",
       "      <td>8.3</td>\n",
       "      <td>71</td>\n",
       "      <td>674,430</td>\n",
       "    </tr>\n",
       "    <tr>\n",
       "      <th>6</th>\n",
       "      <td>1883</td>\n",
       "      <td>8.8</td>\n",
       "      <td>00</td>\n",
       "      <td>56,202</td>\n",
       "    </tr>\n",
       "  </tbody>\n",
       "</table>\n",
       "</div>"
      ],
      "text/plain": [
       "                     movie_name rating metascore     vote\n",
       "0  Only Murders in the Building    8.1        00   74,021\n",
       "1               The Black Phone    7.3        65   24,956\n",
       "2                        Sing 2    7.4        49   55,945\n",
       "3            Last Night in Soho    7.1        65  113,809\n",
       "4                House of Gucci    6.6        59  111,290\n",
       "5       Spider-Man: No Way Home    8.3        71  674,430\n",
       "6                          1883    8.8        00   56,202"
      ]
     },
     "execution_count": 84,
     "metadata": {},
     "output_type": "execute_result"
    }
   ],
   "source": [
    "#50 Film populer yang dirilis tahun 2021\n",
    "df = pd.DataFrame(temp, columns = (\"movie_name\",\"rating\",\"metascore\",\"vote\",\"gross\")).iloc[0:7 , 0:4]\n",
    "df"
   ]
  },
  {
   "cell_type": "markdown",
   "metadata": {},
   "source": [
    "Do the data cleaning here (please change this markdown with your explanation of what you do for data wrangling)"
   ]
  },
  {
   "cell_type": "markdown",
   "metadata": {},
   "source": [
    "**Dari datafrane IMDB diatas kita perlu melakukan cek terhadap tipe datanya, untuk dapat kemudian dilakukan analisa\n",
    "Jika terdapat tipe data yang belum sesuai maka perlu disesuaikan terlebih dahulu, dengan cara sebagai berikut:**"
   ]
  },
  {
   "cell_type": "code",
   "execution_count": 85,
   "metadata": {
    "scrolled": true
   },
   "outputs": [
    {
     "data": {
      "text/plain": [
       "movie_name    object\n",
       "rating        object\n",
       "metascore     object\n",
       "vote          object\n",
       "dtype: object"
      ]
     },
     "execution_count": 85,
     "metadata": {},
     "output_type": "execute_result"
    }
   ],
   "source": [
    "df.dtypes #cek tipe data"
   ]
  },
  {
   "cell_type": "code",
   "execution_count": 86,
   "metadata": {},
   "outputs": [
    {
     "data": {
      "text/plain": [
       "movie_name     object\n",
       "rating        float64\n",
       "metascore       int64\n",
       "vote            int64\n",
       "dtype: object"
      ]
     },
     "execution_count": 86,
     "metadata": {},
     "output_type": "execute_result"
    }
   ],
   "source": [
    "df[\"rating\"]=df[\"rating\"].astype(\"float64\") #mengubah tipe data\n",
    "df[\"metascore\"]=df[\"metascore\"].astype(\"int64\")\n",
    "df[\"vote\"]=df[\"vote\"].str.replace(\",\",\"\") #melakukan adjustment agar data bisa diubah menjadi tipe int\n",
    "df[\"vote\"]=df[\"vote\"].astype(\"int64\")\n",
    "df.dtypes"
   ]
  },
  {
   "cell_type": "markdown",
   "metadata": {},
   "source": [
    "Data visualisation (please change this markdown with your explanation of what you do for data wrangling)"
   ]
  },
  {
   "cell_type": "code",
   "execution_count": 91,
   "metadata": {
    "scrolled": false
   },
   "outputs": [
    {
     "data": {
      "text/html": [
       "<div>\n",
       "<style scoped>\n",
       "    .dataframe tbody tr th:only-of-type {\n",
       "        vertical-align: middle;\n",
       "    }\n",
       "\n",
       "    .dataframe tbody tr th {\n",
       "        vertical-align: top;\n",
       "    }\n",
       "\n",
       "    .dataframe thead th {\n",
       "        text-align: right;\n",
       "    }\n",
       "</style>\n",
       "<table border=\"1\" class=\"dataframe\">\n",
       "  <thead>\n",
       "    <tr style=\"text-align: right;\">\n",
       "      <th></th>\n",
       "      <th>rating</th>\n",
       "      <th>metascore</th>\n",
       "      <th>vote</th>\n",
       "    </tr>\n",
       "    <tr>\n",
       "      <th>movie_name</th>\n",
       "      <th></th>\n",
       "      <th></th>\n",
       "      <th></th>\n",
       "    </tr>\n",
       "  </thead>\n",
       "  <tbody>\n",
       "    <tr>\n",
       "      <th>Only Murders in the Building</th>\n",
       "      <td>8.1</td>\n",
       "      <td>0</td>\n",
       "      <td>74021</td>\n",
       "    </tr>\n",
       "    <tr>\n",
       "      <th>The Black Phone</th>\n",
       "      <td>7.3</td>\n",
       "      <td>65</td>\n",
       "      <td>24956</td>\n",
       "    </tr>\n",
       "    <tr>\n",
       "      <th>Sing 2</th>\n",
       "      <td>7.4</td>\n",
       "      <td>49</td>\n",
       "      <td>55945</td>\n",
       "    </tr>\n",
       "    <tr>\n",
       "      <th>Last Night in Soho</th>\n",
       "      <td>7.1</td>\n",
       "      <td>65</td>\n",
       "      <td>113809</td>\n",
       "    </tr>\n",
       "    <tr>\n",
       "      <th>House of Gucci</th>\n",
       "      <td>6.6</td>\n",
       "      <td>59</td>\n",
       "      <td>111290</td>\n",
       "    </tr>\n",
       "    <tr>\n",
       "      <th>Spider-Man: No Way Home</th>\n",
       "      <td>8.3</td>\n",
       "      <td>71</td>\n",
       "      <td>674430</td>\n",
       "    </tr>\n",
       "    <tr>\n",
       "      <th>1883</th>\n",
       "      <td>8.8</td>\n",
       "      <td>0</td>\n",
       "      <td>56202</td>\n",
       "    </tr>\n",
       "  </tbody>\n",
       "</table>\n",
       "</div>"
      ],
      "text/plain": [
       "                              rating  metascore    vote\n",
       "movie_name                                             \n",
       "Only Murders in the Building     8.1          0   74021\n",
       "The Black Phone                  7.3         65   24956\n",
       "Sing 2                           7.4         49   55945\n",
       "Last Night in Soho               7.1         65  113809\n",
       "House of Gucci                   6.6         59  111290\n",
       "Spider-Man: No Way Home          8.3         71  674430\n",
       "1883                             8.8          0   56202"
      ]
     },
     "execution_count": 91,
     "metadata": {},
     "output_type": "execute_result"
    }
   ],
   "source": [
    "#7 film paling populer yang dirilis tahun 2021\n",
    "df=df.head(7)\n",
    "df=df.set_index(\"movie_name\")\n",
    "df"
   ]
  },
  {
   "cell_type": "code",
   "execution_count": 92,
   "metadata": {},
   "outputs": [
    {
     "data": {
      "text/html": [
       "<div>\n",
       "<style scoped>\n",
       "    .dataframe tbody tr th:only-of-type {\n",
       "        vertical-align: middle;\n",
       "    }\n",
       "\n",
       "    .dataframe tbody tr th {\n",
       "        vertical-align: top;\n",
       "    }\n",
       "\n",
       "    .dataframe thead th {\n",
       "        text-align: right;\n",
       "    }\n",
       "</style>\n",
       "<table border=\"1\" class=\"dataframe\">\n",
       "  <thead>\n",
       "    <tr style=\"text-align: right;\">\n",
       "      <th></th>\n",
       "      <th>rating</th>\n",
       "      <th>metascore</th>\n",
       "      <th>vote</th>\n",
       "    </tr>\n",
       "  </thead>\n",
       "  <tbody>\n",
       "    <tr>\n",
       "      <th>count</th>\n",
       "      <td>7.000000</td>\n",
       "      <td>7.000000</td>\n",
       "      <td>7.000000</td>\n",
       "    </tr>\n",
       "    <tr>\n",
       "      <th>mean</th>\n",
       "      <td>7.657143</td>\n",
       "      <td>44.142857</td>\n",
       "      <td>158664.714286</td>\n",
       "    </tr>\n",
       "    <tr>\n",
       "      <th>std</th>\n",
       "      <td>0.767805</td>\n",
       "      <td>30.910778</td>\n",
       "      <td>229623.878974</td>\n",
       "    </tr>\n",
       "    <tr>\n",
       "      <th>min</th>\n",
       "      <td>6.600000</td>\n",
       "      <td>0.000000</td>\n",
       "      <td>24956.000000</td>\n",
       "    </tr>\n",
       "    <tr>\n",
       "      <th>25%</th>\n",
       "      <td>7.200000</td>\n",
       "      <td>24.500000</td>\n",
       "      <td>56073.500000</td>\n",
       "    </tr>\n",
       "    <tr>\n",
       "      <th>50%</th>\n",
       "      <td>7.400000</td>\n",
       "      <td>59.000000</td>\n",
       "      <td>74021.000000</td>\n",
       "    </tr>\n",
       "    <tr>\n",
       "      <th>75%</th>\n",
       "      <td>8.200000</td>\n",
       "      <td>65.000000</td>\n",
       "      <td>112549.500000</td>\n",
       "    </tr>\n",
       "    <tr>\n",
       "      <th>max</th>\n",
       "      <td>8.800000</td>\n",
       "      <td>71.000000</td>\n",
       "      <td>674430.000000</td>\n",
       "    </tr>\n",
       "  </tbody>\n",
       "</table>\n",
       "</div>"
      ],
      "text/plain": [
       "         rating  metascore           vote\n",
       "count  7.000000   7.000000       7.000000\n",
       "mean   7.657143  44.142857  158664.714286\n",
       "std    0.767805  30.910778  229623.878974\n",
       "min    6.600000   0.000000   24956.000000\n",
       "25%    7.200000  24.500000   56073.500000\n",
       "50%    7.400000  59.000000   74021.000000\n",
       "75%    8.200000  65.000000  112549.500000\n",
       "max    8.800000  71.000000  674430.000000"
      ]
     },
     "execution_count": 92,
     "metadata": {},
     "output_type": "execute_result"
    }
   ],
   "source": [
    "df.describe()"
   ]
  },
  {
   "cell_type": "code",
   "execution_count": 93,
   "metadata": {
    "scrolled": true
   },
   "outputs": [
    {
     "data": {
      "text/plain": [
       "<AxesSubplot:ylabel='movie_name'>"
      ]
     },
     "execution_count": 93,
     "metadata": {},
     "output_type": "execute_result"
    },
    {
     "data": {
      "image/png": "[encoded data removed]",
      "text/plain": [
       "<Figure size 432x288 with 1 Axes>"
      ]
     },
     "metadata": {
      "needs_background": "light"
     },
     "output_type": "display_data"
    }
   ],
   "source": [
    "df.plot.barh() #membuat visualisasi data "
   ]
  },
  {
   "cell_type": "code",
   "execution_count": 94,
   "metadata": {
    "scrolled": true
   },
   "outputs": [
    {
     "data": {
      "text/plain": [
       "<AxesSubplot:ylabel='movie_name'>"
      ]
     },
     "execution_count": 94,
     "metadata": {},
     "output_type": "execute_result"
    },
    {
     "data": {
      "image/png": "[encoded data removed]",
      "text/plain": [
       "<Figure size 432x288 with 1 Axes>"
      ]
     },
     "metadata": {
      "needs_background": "light"
     },
     "output_type": "display_data"
    }
   ],
   "source": [
    "Grafik1 = df.iloc[0:7 , 0:2]\n",
    "Grafik1.plot.barh()"
   ]
  },
  {
   "cell_type": "code",
   "execution_count": 96,
   "metadata": {},
   "outputs": [
    {
     "data": {
      "text/plain": [
       "<AxesSubplot:xlabel='movie_name'>"
      ]
     },
     "execution_count": 96,
     "metadata": {},
     "output_type": "execute_result"
    },
    {
     "data": {
      "image/png": "[encoded data removed]",
      "text/plain": [
       "<Figure size 432x288 with 1 Axes>"
      ]
     },
     "metadata": {
      "needs_background": "light"
     },
     "output_type": "display_data"
    }
   ],
   "source": [
    "Grafik1.plot()"
   ]
  },
  {
   "cell_type": "markdown",
   "metadata": {},
   "source": [
    "### Implementing your webscrapping to the flask dashboard\n",
    "\n",
    "- Copy paste all of your web scrapping process to the desired position on the `app.py`\n",
    "- Changing the title of the dasboard at `index.html`"
   ]
  },
  {
   "cell_type": "markdown",
   "metadata": {},
   "source": [
    "## Finishing This Notebook with Your Analysis and Conclusion\n",
    "\n",
    "First you can do start with making the data visualisation. "
   ]
  },
  {
   "cell_type": "code",
   "execution_count": null,
   "metadata": {
    "ExecuteTime": {
     "end_time": "2020-01-13T05:20:56.208237Z",
     "start_time": "2020-01-13T05:20:56.076043Z"
    }
   },
   "outputs": [],
   "source": [
    "#Insight:\n",
    "    #1. Film yang menjadi favorit penonton tidak selalu mempunyai nilai metascore yang tinggi dari kritikus film\n",
    "    #2. Film bertema superhero (Spider-Man: No Way Home) mempunyai lebih banyak voters dibandingkan film yang lain\n",
    "    #3. Rata2 ratings dari 7 film populer diatas adalah 7,6"
   ]
  },
  {
   "cell_type": "markdown",
   "metadata": {},
   "source": [
    "\n",
    "(Put your analysis and conclusion here.)"
   ]
  },
  {
   "cell_type": "markdown",
   "metadata": {},
   "source": [
    "### Extra Challange\n",
    "\n",
    "This will be not included to the scoring. \n",
    "\n",
    "- You can create additional analysis from the data.\n",
    "- Implement it to the dashboard with at `app.py` dan `index.html`."
   ]
  }
 ],
 "metadata": {
  "kernelspec": {
   "display_name": "sparta_da",
   "language": "python",
   "name": "sparta_da"
  },
  "language_info": {
   "codemirror_mode": {
    "name": "ipython",
    "version": 3
   },
   "file_extension": ".py",
   "mimetype": "text/x-python",
   "name": "python",
   "nbconvert_exporter": "python",
   "pygments_lexer": "ipython3",
   "version": "3.9.12"
  }
 },
 "nbformat": 4,
 "nbformat_minor": 2
}
